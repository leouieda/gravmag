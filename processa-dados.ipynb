{
 "cells": [
  {
   "cell_type": "code",
   "execution_count": 3,
   "id": "c0778a37-2cf5-4ca9-ba78-e415d7ed0e2a",
   "metadata": {},
   "outputs": [],
   "source": [
    "import numpy as np\n",
    "import pandas as pd\n",
    "import matplotlib.pyplot as plt\n",
    "import tidegravity"
   ]
  },
  {
   "cell_type": "code",
   "execution_count": 39,
   "id": "13972668-525d-4d01-b293-7c5812c16674",
   "metadata": {},
   "outputs": [
    {
     "data": {
      "text/html": [
       "<div>\n",
       "<style scoped>\n",
       "    .dataframe tbody tr th:only-of-type {\n",
       "        vertical-align: middle;\n",
       "    }\n",
       "\n",
       "    .dataframe tbody tr th {\n",
       "        vertical-align: top;\n",
       "    }\n",
       "\n",
       "    .dataframe thead th {\n",
       "        text-align: right;\n",
       "    }\n",
       "</style>\n",
       "<table border=\"1\" class=\"dataframe\">\n",
       "  <thead>\n",
       "    <tr style=\"text-align: right;\">\n",
       "      <th></th>\n",
       "      <th>estacao</th>\n",
       "      <th>leitura1</th>\n",
       "      <th>leitura2</th>\n",
       "      <th>leitura3</th>\n",
       "      <th>altitude</th>\n",
       "      <th>longitude</th>\n",
       "      <th>latitude</th>\n",
       "    </tr>\n",
       "    <tr>\n",
       "      <th>data</th>\n",
       "      <th></th>\n",
       "      <th></th>\n",
       "      <th></th>\n",
       "      <th></th>\n",
       "      <th></th>\n",
       "      <th></th>\n",
       "      <th></th>\n",
       "    </tr>\n",
       "  </thead>\n",
       "  <tbody>\n",
       "    <tr>\n",
       "      <th>2024-08-20 10:13:00-03:00</th>\n",
       "      <td>pilar</td>\n",
       "      <td>2232.010</td>\n",
       "      <td>2231.985</td>\n",
       "      <td>2231.996</td>\n",
       "      <td>726.78</td>\n",
       "      <td>-46.7353</td>\n",
       "      <td>-23.5594</td>\n",
       "    </tr>\n",
       "    <tr>\n",
       "      <th>2024-08-20 10:46:00-03:00</th>\n",
       "      <td>elevador</td>\n",
       "      <td>2232.149</td>\n",
       "      <td>2232.145</td>\n",
       "      <td>2232.160</td>\n",
       "      <td>726.78</td>\n",
       "      <td>-46.7351</td>\n",
       "      <td>-23.5589</td>\n",
       "    </tr>\n",
       "    <tr>\n",
       "      <th>2024-08-20 11:03:00-03:00</th>\n",
       "      <td>andar1</td>\n",
       "      <td>2231.042</td>\n",
       "      <td>2231.039</td>\n",
       "      <td>2231.050</td>\n",
       "      <td>730.74</td>\n",
       "      <td>-46.7351</td>\n",
       "      <td>-23.5589</td>\n",
       "    </tr>\n",
       "    <tr>\n",
       "      <th>2024-08-20 11:14:00-03:00</th>\n",
       "      <td>andar2</td>\n",
       "      <td>2229.900</td>\n",
       "      <td>2229.880</td>\n",
       "      <td>2229.890</td>\n",
       "      <td>734.79</td>\n",
       "      <td>-46.7351</td>\n",
       "      <td>-23.5589</td>\n",
       "    </tr>\n",
       "    <tr>\n",
       "      <th>2024-08-20 11:32:00-03:00</th>\n",
       "      <td>andar3</td>\n",
       "      <td>2228.741</td>\n",
       "      <td>2228.738</td>\n",
       "      <td>2228.735</td>\n",
       "      <td>738.76</td>\n",
       "      <td>-46.7351</td>\n",
       "      <td>-23.5589</td>\n",
       "    </tr>\n",
       "    <tr>\n",
       "      <th>2024-08-20 11:47:00-03:00</th>\n",
       "      <td>pilar</td>\n",
       "      <td>2231.933</td>\n",
       "      <td>2231.935</td>\n",
       "      <td>2231.929</td>\n",
       "      <td>726.78</td>\n",
       "      <td>-46.7353</td>\n",
       "      <td>-23.5594</td>\n",
       "    </tr>\n",
       "  </tbody>\n",
       "</table>\n",
       "</div>"
      ],
      "text/plain": [
       "                            estacao  leitura1  leitura2  leitura3  altitude  \\\n",
       "data                                                                          \n",
       "2024-08-20 10:13:00-03:00     pilar  2232.010  2231.985  2231.996    726.78   \n",
       "2024-08-20 10:46:00-03:00  elevador  2232.149  2232.145  2232.160    726.78   \n",
       "2024-08-20 11:03:00-03:00    andar1  2231.042  2231.039  2231.050    730.74   \n",
       "2024-08-20 11:14:00-03:00    andar2  2229.900  2229.880  2229.890    734.79   \n",
       "2024-08-20 11:32:00-03:00    andar3  2228.741  2228.738  2228.735    738.76   \n",
       "2024-08-20 11:47:00-03:00     pilar  2231.933  2231.935  2231.929    726.78   \n",
       "\n",
       "                           longitude  latitude  \n",
       "data                                            \n",
       "2024-08-20 10:13:00-03:00   -46.7353  -23.5594  \n",
       "2024-08-20 10:46:00-03:00   -46.7351  -23.5589  \n",
       "2024-08-20 11:03:00-03:00   -46.7351  -23.5589  \n",
       "2024-08-20 11:14:00-03:00   -46.7351  -23.5589  \n",
       "2024-08-20 11:32:00-03:00   -46.7351  -23.5589  \n",
       "2024-08-20 11:47:00-03:00   -46.7353  -23.5594  "
      ]
     },
     "execution_count": 39,
     "metadata": {},
     "output_type": "execute_result"
    }
   ],
   "source": [
    "dados = pd.read_csv(\"dados.txt\", parse_dates=[1], index_col=1)\n",
    "dados"
   ]
  },
  {
   "cell_type": "code",
   "execution_count": 51,
   "id": "2db61a9b-e9b5-4639-a50a-af104bccd3b7",
   "metadata": {},
   "outputs": [
    {
     "data": {
      "text/html": [
       "<div>\n",
       "<style scoped>\n",
       "    .dataframe tbody tr th:only-of-type {\n",
       "        vertical-align: middle;\n",
       "    }\n",
       "\n",
       "    .dataframe tbody tr th {\n",
       "        vertical-align: top;\n",
       "    }\n",
       "\n",
       "    .dataframe thead th {\n",
       "        text-align: right;\n",
       "    }\n",
       "</style>\n",
       "<table border=\"1\" class=\"dataframe\">\n",
       "  <thead>\n",
       "    <tr style=\"text-align: right;\">\n",
       "      <th></th>\n",
       "      <th>Instrument</th>\n",
       "      <th>Milligal</th>\n",
       "    </tr>\n",
       "  </thead>\n",
       "  <tbody>\n",
       "    <tr>\n",
       "      <th>0</th>\n",
       "      <td>0.00</td>\n",
       "      <td>1.00909</td>\n",
       "    </tr>\n",
       "    <tr>\n",
       "      <th>100</th>\n",
       "      <td>100.91</td>\n",
       "      <td>1.00906</td>\n",
       "    </tr>\n",
       "    <tr>\n",
       "      <th>200</th>\n",
       "      <td>201.81</td>\n",
       "      <td>1.00906</td>\n",
       "    </tr>\n",
       "    <tr>\n",
       "      <th>300</th>\n",
       "      <td>302.72</td>\n",
       "      <td>1.00908</td>\n",
       "    </tr>\n",
       "    <tr>\n",
       "      <th>400</th>\n",
       "      <td>403.63</td>\n",
       "      <td>1.00912</td>\n",
       "    </tr>\n",
       "    <tr>\n",
       "      <th>...</th>\n",
       "      <td>...</td>\n",
       "      <td>...</td>\n",
       "    </tr>\n",
       "    <tr>\n",
       "      <th>6600</th>\n",
       "      <td>6673.05</td>\n",
       "      <td>1.00937</td>\n",
       "    </tr>\n",
       "    <tr>\n",
       "      <th>6700</th>\n",
       "      <td>6773.99</td>\n",
       "      <td>1.00907</td>\n",
       "    </tr>\n",
       "    <tr>\n",
       "      <th>6800</th>\n",
       "      <td>6874.89</td>\n",
       "      <td>1.00871</td>\n",
       "    </tr>\n",
       "    <tr>\n",
       "      <th>6900</th>\n",
       "      <td>6975.76</td>\n",
       "      <td>1.00829</td>\n",
       "    </tr>\n",
       "    <tr>\n",
       "      <th>7000</th>\n",
       "      <td>7076.59</td>\n",
       "      <td>0.00000</td>\n",
       "    </tr>\n",
       "  </tbody>\n",
       "</table>\n",
       "<p>71 rows × 2 columns</p>\n",
       "</div>"
      ],
      "text/plain": [
       "      Instrument  Milligal\n",
       "0           0.00   1.00909\n",
       "100       100.91   1.00906\n",
       "200       201.81   1.00906\n",
       "300       302.72   1.00908\n",
       "400       403.63   1.00912\n",
       "...          ...       ...\n",
       "6600     6673.05   1.00937\n",
       "6700     6773.99   1.00907\n",
       "6800     6874.89   1.00871\n",
       "6900     6975.76   1.00829\n",
       "7000     7076.59   0.00000\n",
       "\n",
       "[71 rows x 2 columns]"
      ]
     },
     "execution_count": 51,
     "metadata": {},
     "output_type": "execute_result"
    }
   ],
   "source": [
    "conversao = pd.read_csv(\"G965.csv\", comment=\"/\", skipinitialspace=True) \n",
    "conversao"
   ]
  },
  {
   "cell_type": "code",
   "execution_count": 52,
   "id": "2510e02c-912a-4156-a279-b1d53e55d9be",
   "metadata": {},
   "outputs": [
    {
     "data": {
      "text/plain": [
       "data\n",
       "2024-08-20 10:13:00-03:00    2200\n",
       "2024-08-20 10:46:00-03:00    2200\n",
       "2024-08-20 11:03:00-03:00    2200\n",
       "2024-08-20 11:14:00-03:00    2200\n",
       "2024-08-20 11:32:00-03:00    2200\n",
       "2024-08-20 11:47:00-03:00    2200\n",
       "Name: leitura1, dtype: int64"
      ]
     },
     "execution_count": 52,
     "metadata": {},
     "output_type": "execute_result"
    }
   ],
   "source": [
    "indice = (dados.leitura1 - dados.leitura1 % 100).astype(int)\n",
    "indice"
   ]
  },
  {
   "cell_type": "code",
   "execution_count": 53,
   "id": "1175e50c-2de2-4a89-b107-763832bb2217",
   "metadata": {},
   "outputs": [
    {
     "data": {
      "text/html": [
       "<div>\n",
       "<style scoped>\n",
       "    .dataframe tbody tr th:only-of-type {\n",
       "        vertical-align: middle;\n",
       "    }\n",
       "\n",
       "    .dataframe tbody tr th {\n",
       "        vertical-align: top;\n",
       "    }\n",
       "\n",
       "    .dataframe thead th {\n",
       "        text-align: right;\n",
       "    }\n",
       "</style>\n",
       "<table border=\"1\" class=\"dataframe\">\n",
       "  <thead>\n",
       "    <tr style=\"text-align: right;\">\n",
       "      <th></th>\n",
       "      <th>Instrument</th>\n",
       "      <th>Milligal</th>\n",
       "    </tr>\n",
       "  </thead>\n",
       "  <tbody>\n",
       "    <tr>\n",
       "      <th>2200</th>\n",
       "      <td>2221.4</td>\n",
       "      <td>1.0108</td>\n",
       "    </tr>\n",
       "    <tr>\n",
       "      <th>2200</th>\n",
       "      <td>2221.4</td>\n",
       "      <td>1.0108</td>\n",
       "    </tr>\n",
       "    <tr>\n",
       "      <th>2200</th>\n",
       "      <td>2221.4</td>\n",
       "      <td>1.0108</td>\n",
       "    </tr>\n",
       "    <tr>\n",
       "      <th>2200</th>\n",
       "      <td>2221.4</td>\n",
       "      <td>1.0108</td>\n",
       "    </tr>\n",
       "    <tr>\n",
       "      <th>2200</th>\n",
       "      <td>2221.4</td>\n",
       "      <td>1.0108</td>\n",
       "    </tr>\n",
       "    <tr>\n",
       "      <th>2200</th>\n",
       "      <td>2221.4</td>\n",
       "      <td>1.0108</td>\n",
       "    </tr>\n",
       "  </tbody>\n",
       "</table>\n",
       "</div>"
      ],
      "text/plain": [
       "      Instrument  Milligal\n",
       "2200      2221.4    1.0108\n",
       "2200      2221.4    1.0108\n",
       "2200      2221.4    1.0108\n",
       "2200      2221.4    1.0108\n",
       "2200      2221.4    1.0108\n",
       "2200      2221.4    1.0108"
      ]
     },
     "execution_count": 53,
     "metadata": {},
     "output_type": "execute_result"
    }
   ],
   "source": [
    "conv = conversao.loc[indice]\n",
    "conv"
   ]
  },
  {
   "cell_type": "code",
   "execution_count": 71,
   "id": "e45086fb-e874-43f3-93b8-6c8fde7f0fe6",
   "metadata": {},
   "outputs": [],
   "source": [
    "g_pilar = 978641.83"
   ]
  },
  {
   "cell_type": "code",
   "execution_count": 57,
   "id": "512d7cb8-cb2c-499e-90a0-7c90fc7522ba",
   "metadata": {},
   "outputs": [
    {
     "data": {
      "text/plain": [
       "data\n",
       "2024-08-20 10:13:00-03:00    2253.755708\n",
       "2024-08-20 10:46:00-03:00    2253.896209\n",
       "2024-08-20 11:03:00-03:00    2252.777254\n",
       "2024-08-20 11:14:00-03:00    2251.622920\n",
       "2024-08-20 11:32:00-03:00    2250.451403\n",
       "2024-08-20 11:47:00-03:00    2253.677876\n",
       "dtype: float64"
      ]
     },
     "execution_count": 57,
     "metadata": {},
     "output_type": "execute_result"
    }
   ],
   "source": [
    "mgal = (dados.leitura1 - conv.index) * conv.Milligal.values + conv.Instrument.values\n",
    "mgal"
   ]
  },
  {
   "cell_type": "code",
   "execution_count": 58,
   "id": "d9ea0eae-4ec7-45e0-b2ab-764deb21ca4a",
   "metadata": {},
   "outputs": [],
   "source": [
    "_, _, tide = tidegravity.solve_longman_tide(dados.latitude, dados.longitude, dados.altitude, dados.index.tz_convert(None))"
   ]
  },
  {
   "cell_type": "code",
   "execution_count": 59,
   "id": "57ede3d9-b2d2-4ebf-a912-f4bd2bae2795",
   "metadata": {},
   "outputs": [
    {
     "data": {
      "text/plain": [
       "data\n",
       "2024-08-20 10:13:00-03:00    2253.731319\n",
       "2024-08-20 10:46:00-03:00    2253.843182\n",
       "2024-08-20 11:03:00-03:00    2252.711059\n",
       "2024-08-20 11:14:00-03:00    2251.548967\n",
       "2024-08-20 11:32:00-03:00    2250.366257\n",
       "2024-08-20 11:47:00-03:00    2253.584995\n",
       "dtype: float64"
      ]
     },
     "execution_count": 59,
     "metadata": {},
     "output_type": "execute_result"
    }
   ],
   "source": [
    "a = mgal - tide\n",
    "a"
   ]
  },
  {
   "cell_type": "code",
   "execution_count": 60,
   "id": "39bfe410-7f0b-4952-ab99-a175171bb443",
   "metadata": {},
   "outputs": [
    {
     "data": {
      "text/plain": [
       "data\n",
       "2024-08-20 10:13:00-03:00    0.000000\n",
       "2024-08-20 10:46:00-03:00    0.111863\n",
       "2024-08-20 11:03:00-03:00   -1.020260\n",
       "2024-08-20 11:14:00-03:00   -2.182352\n",
       "2024-08-20 11:32:00-03:00   -3.365062\n",
       "2024-08-20 11:47:00-03:00   -0.146324\n",
       "dtype: float64"
      ]
     },
     "execution_count": 60,
     "metadata": {},
     "output_type": "execute_result"
    }
   ],
   "source": [
    "d = a - a.iloc[0]\n",
    "d"
   ]
  },
  {
   "cell_type": "code",
   "execution_count": 66,
   "id": "358e1d5c-8c65-4053-a1d1-e20172a54d3f",
   "metadata": {},
   "outputs": [
    {
     "data": {
      "text/plain": [
       "data\n",
       "0 days 00:00:00       0.0\n",
       "0 days 00:33:00    1980.0\n",
       "0 days 00:50:00    3000.0\n",
       "0 days 01:01:00    3660.0\n",
       "0 days 01:19:00    4740.0\n",
       "0 days 01:34:00    5640.0\n",
       "Name: data, dtype: float64"
      ]
     },
     "execution_count": 66,
     "metadata": {},
     "output_type": "execute_result"
    }
   ],
   "source": [
    "dt = (d.index - d.index[0]).to_series().dt.total_seconds()\n",
    "dt"
   ]
  },
  {
   "cell_type": "code",
   "execution_count": 67,
   "id": "db6d688e-4238-4ead-a957-e7317aac3a16",
   "metadata": {},
   "outputs": [
    {
     "data": {
      "text/plain": [
       "-2.5944024679629625e-05"
      ]
     },
     "execution_count": 67,
     "metadata": {},
     "output_type": "execute_result"
    }
   ],
   "source": [
    "drift = (d.iloc[-1]) / dt.iloc[-1]\n",
    "drift"
   ]
  },
  {
   "cell_type": "code",
   "execution_count": 69,
   "id": "ddcf9e5b-a2dd-43d6-b2da-eab9c4080971",
   "metadata": {},
   "outputs": [
    {
     "data": {
      "text/plain": [
       "data\n",
       "2024-08-20 10:13:00-03:00    0.000000\n",
       "2024-08-20 10:46:00-03:00    0.163232\n",
       "2024-08-20 11:03:00-03:00   -0.942428\n",
       "2024-08-20 11:14:00-03:00   -2.087397\n",
       "2024-08-20 11:32:00-03:00   -3.242088\n",
       "2024-08-20 11:47:00-03:00    0.000000\n",
       "dtype: float64"
      ]
     },
     "execution_count": 69,
     "metadata": {},
     "output_type": "execute_result"
    }
   ],
   "source": [
    "b = d - drift * dt.values\n",
    "b"
   ]
  },
  {
   "cell_type": "code",
   "execution_count": 72,
   "id": "fd21bcdb-c7b6-4d2e-9ccb-9154e5695fa5",
   "metadata": {},
   "outputs": [
    {
     "data": {
      "text/plain": [
       "data\n",
       "2024-08-20 10:13:00-03:00    978641.830000\n",
       "2024-08-20 10:46:00-03:00    978641.993232\n",
       "2024-08-20 11:03:00-03:00    978640.887572\n",
       "2024-08-20 11:14:00-03:00    978639.742603\n",
       "2024-08-20 11:32:00-03:00    978638.587912\n",
       "2024-08-20 11:47:00-03:00    978641.830000\n",
       "dtype: float64"
      ]
     },
     "execution_count": 72,
     "metadata": {},
     "output_type": "execute_result"
    }
   ],
   "source": [
    "g = g_pilar + b\n",
    "g"
   ]
  },
  {
   "cell_type": "code",
   "execution_count": 75,
   "id": "c054b0f3-5332-40ac-a247-240c687a6f4d",
   "metadata": {},
   "outputs": [
    {
     "data": {
      "text/plain": [
       "[<matplotlib.lines.Line2D at 0x7f3472f12210>]"
      ]
     },
     "execution_count": 75,
     "metadata": {},
     "output_type": "execute_result"
    },
    {
     "data": {
      "image/png": "[encoded data removed]",
      "text/plain": [
       "<Figure size 640x480 with 1 Axes>"
      ]
     },
     "metadata": {},
     "output_type": "display_data"
    }
   ],
   "source": [
    "plt.plot(dados.altitude.iloc[1:-1], g.iloc[1:-1], \".\")"
   ]
  },
  {
   "cell_type": "code",
   "execution_count": null,
   "id": "892c3a87-9725-4495-8040-484fa3ddffe1",
   "metadata": {},
   "outputs": [],
   "source": []
  }
 ],
 "metadata": {
  "kernelspec": {
   "display_name": "Python [conda env:default] *",
   "language": "python",
   "name": "conda-env-default-py"
  },
  "language_info": {
   "codemirror_mode": {
    "name": "ipython",
    "version": 3
   },
   "file_extension": ".py",
   "mimetype": "text/x-python",
   "name": "python",
   "nbconvert_exporter": "python",
   "pygments_lexer": "ipython3",
   "version": "3.11.0"
  }
 },
 "nbformat": 4,
 "nbformat_minor": 5
}
