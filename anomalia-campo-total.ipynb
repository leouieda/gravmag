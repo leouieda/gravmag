{
 "cells": [
  {
   "cell_type": "markdown",
   "metadata": {},
   "source": [
    "# A anomalia de campo total\n",
    "\n",
    "Nessa aula, vamos tentar entender a anomalia magnética de campo total:\n",
    "\n",
    "$$\n",
    "\\Delta T = \\|\\mathbf{\\vec{T}}\\| - \\|\\mathbf{\\vec{F}}\\|\n",
    "$$\n",
    "\n",
    "na qual $\\mathbf{\\vec{T}}$ é o campo magnético observado e $\\mathbf{\\vec{F}}$ é o campo magnético interno (dado pelo IGRF)."
   ]
  },
  {
   "cell_type": "code",
   "execution_count": 1,
   "metadata": {},
   "outputs": [],
   "source": [
    "import numpy as np\n",
    "import matplotlib.pyplot as plt\n",
    "import ipywidgets as widgets\n",
    "from IPython.display import display\n",
    "import harmonica as hm\n",
    "import verde as vd"
   ]
  },
  {
   "cell_type": "markdown",
   "metadata": {},
   "source": [
    "## O campo magnético induzido em um cubo\n",
    "\n",
    "Vamos ver como varia o campo magnético induzido em cubo para diferentes inclinações do campo magnético indutor.\n",
    "\n",
    "Rode a célula abaixo para criar um cubo e produzir uma figura interativa."
   ]
  },
  {
   "cell_type": "code",
   "execution_count": 2,
   "metadata": {
    "collapsed": false,
    "jupyter": {
     "outputs_hidden": false
    }
   },
   "outputs": [
    {
     "data": {
      "application/vnd.jupyter.widget-view+json": {
       "model_id": "b25891719a154ed9817e9b30f3896f55",
       "version_major": 2,
       "version_minor": 0
      },
      "text/plain": [
       "VBox(children=(HBox(children=(HTML(value='<h3><b>Controles:</b></h3>'), Label(value='Inclinação (°)'), IntSlid…"
      ]
     },
     "metadata": {},
     "output_type": "display_data"
    }
   ],
   "source": [
    "def plota_cubo(ax, cubo, alpha=1):\n",
    "    cubo = plt.Rectangle(\n",
    "        (cubo[0], cubo[2]), cubo[1] - cubo[0], cubo[3] - cubo[2], facecolor=\"grey\", alpha=alpha\n",
    "    )\n",
    "    ax.add_patch(cubo)\n",
    "    \n",
    "def anomalia_cubo_perfil(inclinação, magnetização):\n",
    "    areacubo = [-400, 400, -1200, -400]\n",
    "    cubo = (-50e3, 50e3, areacubo[0], areacubo[1], areacubo[2], areacubo[3])\n",
    "    area = (-1500, 1500, -2000, 500)\n",
    "    y, z, x = vd.grid_coordinates(area, spacing=250, extra_coords=0)\n",
    "    def mask(area, v):\n",
    "        y1, y2, z1, z2 = area\n",
    "        v[(y >= y1) & (y <= y2) & (z >= z1) & (z <= z2)] = 0\n",
    "        return v\n",
    "    terra = hm.magnetic_angles_to_vec(10000, inclinação, 0)\n",
    "    mag = hm.magnetic_angles_to_vec(magnetização, inclinação, 0)\n",
    "    bx, by, bz = hm.prism_magnetic((x, y, z), cubo, mag, field=\"b\")\n",
    "    by = mask(areacubo, by)\n",
    "    bz = mask(areacubo, bz)\n",
    "    ty =  by + terra[1]\n",
    "    tz =  bz + terra[2]\n",
    "    mx, my, mz = mag\n",
    "    # Cria a figura\n",
    "    fig, axes = plt.subplots(1, 2, sharey='all', figsize=(10, 6), layout=\"constrained\")\n",
    "    ax1, ax2 = axes\n",
    "    for ax in axes:\n",
    "        ax.set_aspect('equal')\n",
    "        ax.hlines(0, area[0], area[1], linewidth=3, zorder=1, label=\"superfície\")\n",
    "        ax.set_xlabel('y (m)')  \n",
    "    ax1.quiver(y, z, by, bz, linewidth=0.5, scale=1e5, pivot='middle')\n",
    "    ax2.quiver(\n",
    "        y, z, ty, tz, \n",
    "        linewidth=0.5, \n",
    "        scale=1e5, \n",
    "        pivot='middle',\n",
    "    )\n",
    "    ax2.quiver(\n",
    "        [-1000], [-0], [terra[1]], [terra[2]], \n",
    "        linewidth=0.5, \n",
    "        color='y',\n",
    "        scale=1e5, \n",
    "        pivot='middle', \n",
    "    )\n",
    "    ax1.set_ylabel('z (m)')\n",
    "    ax1.set_title('Campo do corpo')  \n",
    "    ax2.set_title('Campo total = corpo + Terra')  \n",
    "    for ax in axes:\n",
    "        plota_cubo(ax, areacubo)\n",
    "        ax.quiver(\n",
    "            [0], [-800], [my], [mz], \n",
    "            linewidth=0.5, \n",
    "            color='r',\n",
    "            scale=2.5e2, \n",
    "            pivot='middle', \n",
    "        )\n",
    "        ax.set_xlim(*area[:2])\n",
    "        ax.set_ylim(*area[2:])\n",
    "\n",
    "w_inc = widgets.IntSlider(min=-90, max=90, step=10, value=-40)\n",
    "w_mag = widgets.IntSlider(min=0, max=50, step=5, value=0)\n",
    "output = widgets.interactive_output(\n",
    "    anomalia_cubo_perfil, dict(inclinação=w_inc, magnetização=w_mag),\n",
    ")\n",
    "ui = widgets.VBox([\n",
    "    widgets.HBox([\n",
    "        widgets.HTML(\"<h3><b>Controles:</b></h3>\"),\n",
    "        widgets.Label(\"Inclinação (°)\"), w_inc, \n",
    "        widgets.Label(\"Magnetização (A/m)\"), w_mag, \n",
    "    ], layout={\"align_items\": \"center\"}),\n",
    "    output,\n",
    "], layout={\"align_items\": \"center\"})\n",
    "display(ui)"
   ]
  },
  {
   "cell_type": "markdown",
   "metadata": {},
   "source": [
    "**Sobre a figura acima:**\n",
    "\n",
    "* Corte vertical de um cubo de 800m x 800m x 800m passando no meio do cubo ao longo do eixo y (Norte)\n",
    "* Linha azul é a **superfície** (z = 0m)\n",
    "* **Esquerda:** Campo magnético gerado pelo corpo. Vetor vermelho é a magnetização.\n",
    "* **Direita:** Campo total. Vetor amarelo é a amplitude do campo da Terra."
   ]
  },
  {
   "cell_type": "markdown",
   "metadata": {},
   "source": [
    "### Tarefa: Desenhe a anomalia magnética do cubo para diferentes inclinações\n",
    "\n",
    "Use a figura acima para deduzir e esboçar como seria a anomalia magnética do cupo (em perfil) para difentes inclinações: -90, -50, 0, 50, 90"
   ]
  },
  {
   "cell_type": "markdown",
   "metadata": {},
   "source": [
    "## Anomalia magnética de um cubo\n",
    "\n",
    "Agora vamos plotar um mapa da anomalia magnética do cubo para explorar a variação com a declinação e profundidade."
   ]
  },
  {
   "cell_type": "code",
   "execution_count": 3,
   "metadata": {},
   "outputs": [
    {
     "data": {
      "application/vnd.jupyter.widget-view+json": {
       "model_id": "68d9cb82d1b84490a42ad1a6d1417321",
       "version_major": 2,
       "version_minor": 0
      },
      "text/plain": [
       "HBox(children=(VBox(children=(HTML(value='<h3><b>Controles:</b></h3>'), Label(value='Inclinação (°)'), IntSlid…"
      ]
     },
     "metadata": {},
     "output_type": "display_data"
    }
   ],
   "source": [
    "def anomalia_cubo_mapa(inclinação, declinação, magnetização, altitude):\n",
    "    area = (-15e3, 15e3, -10e3, 10e3)\n",
    "    cubo = [-1e3, 1e3, -1e3, 1e3, -2e3, 0]\n",
    "    x, y, z = vd.grid_coordinates(area, spacing=250, extra_coords=altitude)\n",
    "    fx, fy, fz = hm.magnetic_angles_to_vec(1, inclinação, declinação)\n",
    "    mag = hm.magnetic_angles_to_vec(magnetização, inclinação, declinação)\n",
    "    bx, by, bz = hm.prism_magnetic((x, y, z), cubo, mag, field=\"b\")\n",
    "    anomalia = fx*bx + fy*by + fz*bz\n",
    "    scale = vd.maxabs(anomalia)\n",
    "    # Cria a figura\n",
    "    fig, ax = plt.subplots(1, 1, figsize=(8, 4.5), layout=\"constrained\")\n",
    "    ax.set_aspect('equal')  \n",
    "    tmp = ax.pcolormesh(x, y, anomalia, cmap=\"RdBu_r\", vmin=-scale, vmax=scale)\n",
    "    fig.colorbar(tmp, ax=ax, label=\"nT\", pad=0, aspect=40)\n",
    "    plota_cubo(ax, cubo[:4], alpha=0.75)        \n",
    "    ax.set_xlabel('x (m)')\n",
    "    ax.set_ylabel('y (m)')\n",
    "    ax.set_xlim(*area[:2])\n",
    "    ax.set_ylim(*area[2:])\n",
    "    ax.set_title(\"Anomalia magnética de campo total de um prisma\")\n",
    "\n",
    "w_inc = widgets.IntSlider(min=-90, max=90, step=10, value=-40)\n",
    "w_dec = widgets.IntSlider(min=-90, max=90, step=10, value=0)\n",
    "w_mag = widgets.IntSlider(min=0, max=20, step=5, value=0)\n",
    "w_alt = widgets.IntSlider(min=500, max=5000, step=500, value=500)\n",
    "output = widgets.interactive_output(\n",
    "    anomalia_cubo_mapa, \n",
    "    dict(inclinação=w_inc, declinação=w_dec, magnetização=w_mag, altitude=w_alt),\n",
    ")\n",
    "ui = widgets.HBox([\n",
    "    widgets.VBox([\n",
    "        widgets.HTML(\"<h3><b>Controles:</b></h3>\"),\n",
    "        widgets.Label(\"Inclinação (°)\"), w_inc, \n",
    "        widgets.Label(\"Declinação (°)\"), w_dec, \n",
    "        widgets.Label(\"Magnetização (A/m)\"), w_mag, \n",
    "        widgets.Label(\"Altitude (m)\"), w_alt,\n",
    "    ]),\n",
    "    output\n",
    "])\n",
    "display(ui)"
   ]
  },
  {
   "cell_type": "markdown",
   "metadata": {},
   "source": [
    "**Sobre a figura acima:**\n",
    "\n",
    "* Anomalia magnética de campo total vista de cima (em mapa).\n",
    "* Quadrado cinza é a vista do cubo.\n",
    "* **Atenção para a barra de cor**."
   ]
  },
  {
   "cell_type": "markdown",
   "metadata": {},
   "source": [
    "### Tarefa: Descreva como o campo varia\n",
    "\n",
    "Varie todos os parâmetros acima e descreva como o campo varia com cada um. Para isso, **mude um parâmetro de cada vez**. Sugiro que comecem com a magnetização. Descreve em aproximadamente 1 prágrafo (pode ser em formato lista também)."
   ]
  }
 ],
 "metadata": {
  "kernelspec": {
   "display_name": "Python [conda env:default] *",
   "language": "python",
   "name": "conda-env-default-py"
  },
  "language_info": {
   "codemirror_mode": {
    "name": "ipython",
    "version": 3
   },
   "file_extension": ".py",
   "mimetype": "text/x-python",
   "name": "python",
   "nbconvert_exporter": "python",
   "pygments_lexer": "ipython3",
   "version": "3.11.0"
  }
 },
 "nbformat": 4,
 "nbformat_minor": 4
}
